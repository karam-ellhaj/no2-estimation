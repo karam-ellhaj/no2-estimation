{
 "cells": [
  {
   "cell_type": "code",
   "execution_count": null,
   "metadata": {},
   "outputs": [],
   "source": [
    "import pandas as pd \n",
    "import numpy as np\n",
    "from lightgbm import LGBMRegressor\n",
    "from catboost import CatBoostRegressor\n",
    "import warnings \n",
    "from sklearn.metrics import mean_squared_error\n",
    "import lofo\n",
    "from sklearn.model_selection import StratifiedKFold, KFold\n",
    "import seaborn as sns"
   ]
  },
  {
   "cell_type": "code",
   "execution_count": null,
   "metadata": {},
   "outputs": [],
   "source": [
    "warnings.filterwarnings('ignore')"
   ]
  },
  {
   "cell_type": "code",
   "execution_count": null,
   "metadata": {},
   "outputs": [],
   "source": [
    "def stats_by_feat(train,test,feat_to_stat,feat_to_group,func):\n",
    "    for df in (train,test):\n",
    "        df[feat_to_stat+feat_to_group+func] = df[feat_to_group].map(df.groupby(feat_to_group)[feat_to_stat].aggregate(func))"
   ]
  },
  {
   "cell_type": "code",
   "execution_count": null,
   "metadata": {},
   "outputs": [],
   "source": [
    "train = pd.read_csv('Train.csv')\n",
    "test = pd.read_csv('Test.csv')\n",
    "train = train[~train['GT_NO2'].isna()]"
   ]
  },
  {
   "cell_type": "code",
   "execution_count": null,
   "metadata": {},
   "outputs": [],
   "source": [
    "len(train)"
   ]
  },
  {
   "cell_type": "code",
   "execution_count": null,
   "metadata": {},
   "outputs": [],
   "source": [
    "train"
   ]
  },
  {
   "cell_type": "code",
   "execution_count": null,
   "metadata": {},
   "outputs": [],
   "source": [
    "train.info()"
   ]
  },
  {
   "cell_type": "code",
   "execution_count": null,
   "metadata": {},
   "outputs": [],
   "source": [
    "train['ID'].nunique()"
   ]
  },
  {
   "cell_type": "code",
   "execution_count": null,
   "metadata": {},
   "outputs": [],
   "source": [
    "id = test['ID_Zindi']"
   ]
  },
  {
   "cell_type": "code",
   "execution_count": null,
   "metadata": {},
   "outputs": [],
   "source": [
    "date = pd.to_datetime(train['Date'])"
   ]
  },
  {
   "cell_type": "code",
   "execution_count": null,
   "metadata": {},
   "outputs": [],
   "source": [
    "feautures = ['LST','AAI','NO2_strat','NO2_total','NO2_trop','TropopausePressure']\n"
   ]
  },
  {
   "cell_type": "code",
   "execution_count": null,
   "metadata": {},
   "outputs": [],
   "source": [
    "\n",
    "# for feature in feautures:\n",
    "#     for stat in ['mean','std','min','max','var']:\n",
    "#             stats_by_feat(train,test,feature,'ID',stat)"
   ]
  },
  {
   "cell_type": "code",
   "execution_count": null,
   "metadata": {},
   "outputs": [],
   "source": [
    "for df in (train,test):\n",
    "    df['Date'] = pd.to_datetime(df['Date'])\n",
    "    \n",
    "    df['day'] = df['Date'].dt.day\n",
    "    df['day_sin'] = np.sin(df['Date'].dt.day)\n",
    "    df['dayofyear']= df['Date'].dt.dayofyear\n",
    "    df['month'] = df['Date'].dt.month\n",
    "    df['year'] = df['Date'].dt.year\n",
    "    df['LON_sin'] = np.sin(df['LON'])\n",
    "    df['Lat_sin'] = np.sin(df['LAT'])\n",
    "    df['no_total_by_no_trop'] = df['NO2_total'] / df['NO2_trop']\n",
    "    df.drop(columns=['Date','ID_Zindi','ID'],inplace=True)"
   ]
  },
  {
   "cell_type": "code",
   "execution_count": null,
   "metadata": {},
   "outputs": [],
   "source": []
  },
  {
   "cell_type": "code",
   "execution_count": null,
   "metadata": {},
   "outputs": [],
   "source": [
    "\n",
    "for feature in feautures:\n",
    "    for group in ['day','dayofyear','month','year']:\n",
    "        for stat in ['mean','std','min','max','var']:\n",
    "            stats_by_feat(train,test,feature,group,stat)"
   ]
  },
  {
   "cell_type": "code",
   "execution_count": null,
   "metadata": {},
   "outputs": [],
   "source": [
    "train"
   ]
  },
  {
   "cell_type": "code",
   "execution_count": null,
   "metadata": {},
   "outputs": [],
   "source": [
    "test"
   ]
  },
  {
   "cell_type": "code",
   "execution_count": null,
   "metadata": {},
   "outputs": [],
   "source": [
    "X = train.drop(columns='GT_NO2')\n",
    "y = train['GT_NO2']\n",
    "\n",
    "model = CatBoostRegressor(random_state=42)\n",
    "\n",
    "cv = StratifiedKFold(n_splits=15,shuffle=True,random_state=42)"
   ]
  },
  {
   "cell_type": "code",
   "execution_count": null,
   "metadata": {},
   "outputs": [],
   "source": [
    "train"
   ]
  },
  {
   "cell_type": "code",
   "execution_count": null,
   "metadata": {},
   "outputs": [],
   "source": [
    "test"
   ]
  },
  {
   "cell_type": "code",
   "execution_count": null,
   "metadata": {},
   "outputs": [],
   "source": [
    "import sklearn"
   ]
  },
  {
   "cell_type": "code",
   "execution_count": null,
   "metadata": {},
   "outputs": [],
   "source": [
    "train"
   ]
  },
  {
   "cell_type": "code",
   "execution_count": null,
   "metadata": {},
   "outputs": [],
   "source": [
    "train = train[['GT_NO2','LAT', 'LON', 'Precipitation', 'LST', 'AAI', 'CloudFraction', 'NO2_strat', 'NO2_total', 'NO2_trop', 'TropopausePressure', 'day', 'day_sin', 'dayofyear', 'month', 'year', 'LON_sin', 'no_total_by_no_trop', 'LSTdaymean', 'LSTdaystd', 'LSTdaymin', 'LSTdaymax', 'LSTdayvar', 'LSTdayofyearmean', 'LSTdayofyearstd', 'LSTdayofyearmin', 'LSTdayofyearmax', 'LSTdayofyearvar', 'LSTmonthmean', 'LSTmonthstd', 'LSTmonthmin', 'LSTmonthmax', 'LSTmonthvar', 'LSTyearmean', 'LSTyearstd', 'LSTyearmin', 'LSTyearmax', 'LSTyearvar', 'AAIdaymean', 'AAIdaystd', 'AAIdaymin', 'AAIdaymax', 'AAIdayvar', 'AAIdayofyearmean', 'AAIdayofyearstd', 'AAIdayofyearmin', 'AAIdayofyearmax', 'AAIdayofyearvar', 'AAImonthmean', 'AAImonthstd', 'AAImonthmin', 'AAImonthmax', 'AAImonthvar', 'AAIyearmean', 'AAIyearstd', 'AAIyearmin', 'AAIyearmax', 'AAIyearvar', 'NO2_stratdaymean', 'NO2_stratdaystd', 'NO2_stratdaymin', 'NO2_stratdaymax', 'NO2_stratdayvar', 'NO2_stratdayofyearmean', 'NO2_stratdayofyearstd', 'NO2_stratdayofyearmin', 'NO2_stratdayofyearmax', 'NO2_stratdayofyearvar', 'NO2_stratmonthmean', 'NO2_stratmonthstd', 'NO2_stratmonthmin', 'NO2_stratmonthmax', 'NO2_stratmonthvar', 'NO2_stratyearmean', 'NO2_stratyearstd', 'NO2_stratyearmin', 'NO2_stratyearmax', 'NO2_stratyearvar', 'NO2_totaldaymean', 'NO2_totaldaystd', 'NO2_totaldaymin', 'NO2_totaldaymax', 'NO2_totaldayvar', 'NO2_totaldayofyearmean', 'NO2_totaldayofyearstd', 'NO2_totaldayofyearmin', 'NO2_totaldayofyearmax', 'NO2_totaldayofyearvar', 'NO2_totalmonthmean', 'NO2_totalmonthstd', 'NO2_totalmonthmin', 'NO2_totalmonthmax', 'NO2_totalmonthvar', 'NO2_totalyearmean', 'NO2_totalyearstd', 'NO2_totalyearmin', 'NO2_totalyearmax', 'NO2_totalyearvar', 'NO2_tropdaymean', 'NO2_tropdaystd', 'NO2_tropdaymin', 'NO2_tropdaymax', 'NO2_tropdayvar', 'NO2_tropdayofyearmean', 'NO2_tropdayofyearstd', 'NO2_tropdayofyearmin', 'NO2_tropdayofyearmax', 'NO2_tropdayofyearvar', 'NO2_tropmonthmean', 'NO2_tropmonthstd', 'NO2_tropmonthmin', 'NO2_tropmonthmax', 'NO2_tropmonthvar', 'NO2_tropyearmean', 'NO2_tropyearstd', 'NO2_tropyearmin', 'NO2_tropyearmax', 'NO2_tropyearvar', 'TropopausePressuredaymean', 'TropopausePressuredaystd', 'TropopausePressuredaymin', 'TropopausePressuredaymax', 'TropopausePressuredayvar', 'TropopausePressuredayofyearmean', 'TropopausePressuredayofyearstd', 'TropopausePressuredayofyearmin', 'TropopausePressuredayofyearmax', 'TropopausePressuredayofyearvar', 'TropopausePressuremonthmean', 'TropopausePressuremonthstd', 'TropopausePressuremonthmin', 'TropopausePressuremonthmax', 'TropopausePressuremonthvar', 'TropopausePressureyearmean', 'TropopausePressureyearstd', 'TropopausePressureyearmin', 'TropopausePressureyearmax', 'TropopausePressureyearvar']]"
   ]
  },
  {
   "cell_type": "code",
   "execution_count": null,
   "metadata": {},
   "outputs": [],
   "source": [
    "metrics = []\n",
    "OOF = []\n",
    "RV = []\n",
    "def validate(trainset,testset,t):\n",
    "    model.fit(trainset.drop(columns=t),trainset[t])\n",
    "    pred = model.predict(testset.drop(columns=t))\n",
    "    score = mean_squared_error(pred,testset[t],squared=False)\n",
    "    OOF.extend(pred)\n",
    "    RV.extend(testset[t])\n",
    "    return score\n",
    "for v_train,v_test in cv.split(train.drop(columns='GT_NO2'),date):\n",
    "    train_v, test_v= train.iloc[v_train],train.iloc[v_test]\n",
    "    rmse = validate(train_v,test_v,'GT_NO2')\n",
    "    metrics.append(rmse)"
   ]
  },
  {
   "cell_type": "code",
   "execution_count": null,
   "metadata": {},
   "outputs": [],
   "source": [
    "from sklearn.linear_model import LinearRegression\n"
   ]
  },
  {
   "cell_type": "code",
   "execution_count": null,
   "metadata": {},
   "outputs": [],
   "source": [
    "len(RV)"
   ]
  },
  {
   "cell_type": "code",
   "execution_count": null,
   "metadata": {},
   "outputs": [],
   "source": [
    "len(OOF)\n"
   ]
  },
  {
   "cell_type": "code",
   "execution_count": null,
   "metadata": {},
   "outputs": [],
   "source": [
    "OOF = np.array(OOF).reshape(-1,1)"
   ]
  },
  {
   "cell_type": "code",
   "execution_count": null,
   "metadata": {},
   "outputs": [],
   "source": [
    "OOF"
   ]
  },
  {
   "cell_type": "code",
   "execution_count": null,
   "metadata": {},
   "outputs": [],
   "source": [
    "lr = LinearRegression()"
   ]
  },
  {
   "cell_type": "code",
   "execution_count": null,
   "metadata": {},
   "outputs": [],
   "source": [
    "lr.fit(X=OOF,y=RV)"
   ]
  },
  {
   "cell_type": "code",
   "execution_count": null,
   "metadata": {},
   "outputs": [],
   "source": [
    "np.array(metrics).mean()"
   ]
  },
  {
   "cell_type": "code",
   "execution_count": null,
   "metadata": {},
   "outputs": [],
   "source": [
    "np.array(metrics).std()\n"
   ]
  },
  {
   "cell_type": "code",
   "execution_count": null,
   "metadata": {},
   "outputs": [],
   "source": [
    "model.fit(train.drop(columns='GT_NO2'),train['GT_NO2'])"
   ]
  },
  {
   "cell_type": "code",
   "execution_count": null,
   "metadata": {},
   "outputs": [],
   "source": [
    "# importance =pd.DataFrame({\n",
    "#     'name':model.feature_name_,\n",
    "#     'importance':model.feature_importances_\n",
    "# })"
   ]
  },
  {
   "cell_type": "code",
   "execution_count": null,
   "metadata": {},
   "outputs": [],
   "source": [
    "prediction = model.predict(test)"
   ]
  },
  {
   "cell_type": "code",
   "execution_count": null,
   "metadata": {},
   "outputs": [],
   "source": [
    "linear_prediction = lr.predict(prediction.reshape(-1,1))"
   ]
  },
  {
   "cell_type": "code",
   "execution_count": null,
   "metadata": {},
   "outputs": [],
   "source": [
    "prediction = linear_prediction"
   ]
  },
  {
   "cell_type": "code",
   "execution_count": null,
   "metadata": {},
   "outputs": [],
   "source": [
    "sns.displot(prediction)"
   ]
  },
  {
   "cell_type": "code",
   "execution_count": null,
   "metadata": {},
   "outputs": [],
   "source": [
    "submission = pd.DataFrame({\"ID_Zindi\":id,'GT_NO2':prediction})"
   ]
  },
  {
   "cell_type": "code",
   "execution_count": null,
   "metadata": {},
   "outputs": [],
   "source": [
    "submission.to_csv('submission.csv',index=False)"
   ]
  },
  {
   "cell_type": "code",
   "execution_count": null,
   "metadata": {},
   "outputs": [],
   "source": [
    "model.feature_names_"
   ]
  },
  {
   "cell_type": "code",
   "execution_count": null,
   "metadata": {},
   "outputs": [],
   "source": [
    "# import seaborn as sns \n",
    "# import matplotlib.pyplot as plt \n",
    "\n",
    "# plt.figure(figsize=(10,30))\n",
    "# sns.barplot(x=importance['importance'],y=importance['name'])"
   ]
  }
 ],
 "metadata": {
  "kernelspec": {
   "display_name": "Python 3",
   "language": "python",
   "name": "python3"
  },
  "language_info": {
   "codemirror_mode": {
    "name": "ipython",
    "version": 3
   },
   "file_extension": ".py",
   "mimetype": "text/x-python",
   "name": "python",
   "nbconvert_exporter": "python",
   "pygments_lexer": "ipython3",
   "version": "3.10.7"
  }
 },
 "nbformat": 4,
 "nbformat_minor": 2
}
